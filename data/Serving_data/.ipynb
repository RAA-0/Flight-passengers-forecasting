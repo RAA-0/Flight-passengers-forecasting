{
 "cells": [
  {
   "cell_type": "code",
   "execution_count": 1,
   "metadata": {},
   "outputs": [],
   "source": [
    "    import pandas as pd \n",
    "    n = {'C:\\\\Users\\\\Lenovo\\\\Documents\\\\GitHub\\\\Flight-passengers-forecasting\\\\data\\\\FlightML\\\\FLIGHT_LOAD_ML_202310161702_arrival.csv':(\"SIBT\",\"C:\\\\Users\\\\Lenovo\\\\Documents\\\\GitHub\\\\Flight-passengers-forecasting\\\\data\\\\Serving_data\\\\arrival_serving_data.csv\"),'C:\\\\Users\\\\Lenovo\\\\Documents\\\\GitHub\\\\Flight-passengers-forecasting\\\\data\\\\FlightML\\\\departure_dataset.csv':(\"SOBT\",\"C:\\\\Users\\\\Lenovo\\\\Documents\\\\GitHub\\\\Flight-passengers-forecasting\\\\data\\\\Serving_data\\\\departure_serving_data.csv\")}\n",
    "    for path in n.keys():\n",
    "        departure_dataset = pd.read_csv(path, index_col=False)\n",
    "        departure_dataset.sort_values(by=n[path][0])\n",
    "        dataset = departure_dataset.tail(1000)\n",
    "        dataset.to_csv(n[path][1],index=False)\n"
   ]
  },
  {
   "cell_type": "code",
   "execution_count": null,
   "metadata": {},
   "outputs": [],
   "source": [
    "from sklearn.metrics import r2_score\n",
    "\n",
    "d = pd.read_csv(\"arrival_result.csv\")\n",
    "\n"
   ]
  },
  {
   "cell_type": "code",
   "execution_count": 2,
   "metadata": {},
   "outputs": [],
   "source": [
    "## ramadan case \n",
    "import pandas as pd \n",
    "\n",
    "n = {'C:\\\\Users\\\\Lenovo\\\\Documents\\\\GitHub\\\\Flight-passengers-forecasting\\\\data\\\\FlightML\\\\FLIGHT_LOAD_ML_202310161702_arrival.csv':(\"SIBT\",\"C:\\\\Users\\\\Lenovo\\\\Documents\\\\GitHub\\\\Flight-passengers-forecasting\\\\data\\\\Serving_data\\\\arrival_serving_data.csv\"),'C:\\\\Users\\\\Lenovo\\\\Documents\\\\GitHub\\\\Flight-passengers-forecasting\\\\data\\\\FlightML\\\\departure_dataset.csv':(\"SOBT\",\"C:\\\\Users\\\\Lenovo\\\\Documents\\\\GitHub\\\\Flight-passengers-forecasting\\\\data\\\\Serving_data\\\\departure_serving_data.csv\")}\n",
    "ramadan_periods = [\n",
    "    {\"start\": \"2022-04-02\", \"end\": \"2022-05-01\"},\n",
    "    {\"start\": \"2023-03-22\", \"end\": \"2023-04-20\"},\n",
    "]\n",
    "for path in n.keys():\n",
    "    dataset = pd.read_csv(path, index_col=False)\n",
    "    dataset.sort_values(by=n[path][0])\n",
    "    filtered_df = pd.concat(\n",
    "    [\n",
    "        dataset[(pd.to_datetime(dataset[n[path][0]]) >= pd.to_datetime(period[\"start\"])) & (pd.to_datetime(dataset[n[path][0]]) <= pd.to_datetime(period[\"end\"]))]\n",
    "        for period in ramadan_periods\n",
    "    ]\n",
    ")\n",
    "    filtered_df.to_csv(n[path][1],index=False)\n"
   ]
  }
 ],
 "metadata": {
  "kernelspec": {
   "display_name": "Python 3",
   "language": "python",
   "name": "python3"
  },
  "language_info": {
   "codemirror_mode": {
    "name": "ipython",
    "version": 3
   },
   "file_extension": ".py",
   "mimetype": "text/x-python",
   "name": "python",
   "nbconvert_exporter": "python",
   "pygments_lexer": "ipython3",
   "version": "3.12.2"
  }
 },
 "nbformat": 4,
 "nbformat_minor": 2
}
