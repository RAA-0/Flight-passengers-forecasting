{
 "cells": [
  {
   "cell_type": "code",
   "execution_count": 2,
   "metadata": {},
   "outputs": [],
   "source": [
    "import pandas as pd\n",
    "import json \n",
    "\n",
    "with open(\"Training\\\\json_files\\\\weather.json\",'r') as w:\n",
    "    data = json.load(w)\n",
    "with open(\"2023_scraped_weather.json\",'r') as new:\n",
    "    new_data = json.load(new)\n",
    "\n",
    "years = ['2016','2017','2018','2019','2020','2021','2022']\n",
    "\n",
    "w_data = {}\n",
    "for year in years:\n",
    "    w_data[year]= data.get(year,{})\n",
    "\n",
    "w_data['2023'] = new_data.get('data',{}).get(\"2023\",{})\n",
    "\n",
    "with open('updated_weather.json', 'w') as json_file:\n",
    "    json.dump(w_data, json_file, indent=4)"
   ]
  }
 ],
 "metadata": {
  "kernelspec": {
   "display_name": "Python 3",
   "language": "python",
   "name": "python3"
  },
  "language_info": {
   "codemirror_mode": {
    "name": "ipython",
    "version": 3
   },
   "file_extension": ".py",
   "mimetype": "text/x-python",
   "name": "python",
   "nbconvert_exporter": "python",
   "pygments_lexer": "ipython3",
   "version": "3.12.2"
  }
 },
 "nbformat": 4,
 "nbformat_minor": 2
}
